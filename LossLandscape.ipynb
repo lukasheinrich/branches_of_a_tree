{
 "cells": [
  {
   "cell_type": "code",
   "execution_count": 1,
   "metadata": {},
   "outputs": [],
   "source": [
    "import numpy as np\n",
    "import matplotlib.pyplot as plt\n",
    "import jax\n",
    "import copy\n",
    "import queue\n",
    "from shower_sim_instrumented import simulator\n",
    "from shower_sim_baseline import summary_metric\n",
    "\n",
    "%load_ext autoreload\n",
    "%autoreload 2"
   ]
  },
  {
   "cell_type": "code",
   "execution_count": 2,
   "metadata": {},
   "outputs": [
    {
     "name": "stdout",
     "output_type": "stream",
     "text": [
      "0.87279123 48.394210412632674 2736 2848\n"
     ]
    }
   ],
   "source": [
    "hits,active,history,scores,out_st = simulator(3.5)\n",
    "print(scores, out_st['w'], hits.size, out_st['y']['hits'].size)"
   ]
  },
  {
   "cell_type": "code",
   "execution_count": 3,
   "metadata": {},
   "outputs": [
    {
     "name": "stdout",
     "output_type": "stream",
     "text": [
      "############ par value= 0.25 ##################\n",
      "############ 0 ##################\n",
      "############ 100 ##################\n"
     ]
    }
   ],
   "source": [
    "par_vals = np.arange(0.25, 4.0, 0.1)\n",
    "N=200\n",
    "eps = 0.01\n",
    "\n",
    "primal_list = []\n",
    "primal_st_list = []\n",
    "\n",
    "score_list = []\n",
    "stad_list = []\n",
    "numeric_list = []\n",
    "dlogp_list = []\n",
    "\n",
    "\n",
    "for par_v in par_vals:\n",
    "    print(\"############ par value=\", par_v, \"##################\")\n",
    "    \n",
    "    primal = []\n",
    "    primal_st = []\n",
    "\n",
    "    score_val = []\n",
    "    stad_val = []\n",
    "    numeric_val = []\n",
    "    dlogp_val = []\n",
    "    \n",
    "    for i in range(N):\n",
    "        if i%100 == 0: print(\"############\", i, \"##################\")\n",
    "        hits,active,history,scores,out_st = simulator(par_v)\n",
    "        _, active2, _, _, _ = simulator(par_v+eps)\n",
    "        \n",
    "        _val = summary_metric(active)\n",
    "        _val2 = summary_metric(active2)\n",
    "        \n",
    "        primal.append(_val)\n",
    "        primal_st.append(summary_metric(out_st['y']['active']))\n",
    "        \n",
    "        numeric_val.append( (_val2 - _val)/eps )\n",
    "        \n",
    "        score_val.append(scores*primal[i])\n",
    "        dlogp_val.append(scores)\n",
    "        stad_val.append(out_st['d'] + out_st['w']*(primal_st[i] - primal[i]))\n",
    "        \n",
    "    primal_list.append(primal)\n",
    "    primal_st_list.append(primal_st)\n",
    "    \n",
    "    score_list.append(score_val)\n",
    "    stad_list.append(stad_val)\n",
    "    numeric_list.append(numeric_val)\n",
    "    dlogp_list.append(dlogp_val)\n",
    "    \n",
    "\n",
    "primal_list = np.array(primal_list)\n",
    "primal_list_m = primal_list.mean(axis=1)\n",
    "primal_list_s = primal_list.std(axis=1)\n",
    "\n",
    "numeric_list = np.array(numeric_list)\n",
    "numeric_m = numeric_list.mean(axis=1)\n",
    "numeric_s = numeric_list.std(axis=1)\n",
    "\n",
    "score_list = np.array(score_list)\n",
    "score_m = score_list.mean(axis=1)\n",
    "score_s = score_list.std(axis=1)\n",
    "\n",
    "dlogp_list = np.array(dlogp_list)\n",
    "score_baseline_list = score_list - dlogp_list*primal_list_m.reshape(-1,1)\n",
    "score_baseline_m = score_baseline_list.mean(axis=1)\n",
    "score_baseline_s = score_baseline_list.std(axis=1)\n",
    "\n",
    "stad_list = np.array(stad_list)\n",
    "stad_m = stad_list.mean(axis=1)\n",
    "stad_s = stad_list.std(axis=1)"
   ]
  },
  {
   "cell_type": "code",
   "execution_count": null,
   "metadata": {},
   "outputs": [],
   "source": []
  }
 ],
 "metadata": {
  "kernelspec": {
   "display_name": "Python 3.11.4 64-bit ('stochad_env')",
   "language": "python",
   "name": "python3"
  },
  "language_info": {
   "codemirror_mode": {
    "name": "ipython",
    "version": 3
   },
   "file_extension": ".py",
   "mimetype": "text/x-python",
   "name": "python",
   "nbconvert_exporter": "python",
   "pygments_lexer": "ipython3",
   "version": "3.11.4"
  },
  "orig_nbformat": 4,
  "vscode": {
   "interpreter": {
    "hash": "29b777788fad9121f9b4a41d949494280ba66b13a17f3ccd9e5dfa0de3270b9d"
   }
  }
 },
 "nbformat": 4,
 "nbformat_minor": 2
}
